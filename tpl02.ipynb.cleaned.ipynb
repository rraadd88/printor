{
 "cells": [
  {
   "cell_type": "code",
   "execution_count": 2,
   "metadata": {
    "slideshow": {
     "slide_type": "slide"
    }
   },
   "outputs": [
    {
     "data": {
      "image/png": "[encoded data removed]",
      "text/html": [
       "\n",
       "\n",
       "<style>\n",
       "\n",
       "</style>\n",
       "\n",
       "<div id=\"fig_el140381398060997259524552849421\"></div>\n",
       "<script>\n",
       "function mpld3_load_lib(url, callback){\n",
       "  var s = document.createElement('script');\n",
       "  s.src = url;\n",
       "  s.async = true;\n",
       "  s.onreadystatechange = s.onload = callback;\n",
       "  s.onerror = function(){console.warn(\"failed to load library \" + url);};\n",
       "  document.getElementsByTagName(\"head\")[0].appendChild(s);\n",
       "}\n",
       "\n",
       "if(typeof(mpld3) !== \"undefined\" && mpld3._mpld3IsLoaded){\n",
       "   // already loaded: just create the figure\n",
       "   !function(mpld3){\n",
       "       \n",
       "       mpld3.draw_figure(\"fig_el140381398060997259524552849421\", {\"width\": 432.0, \"height\": 288.0, \"axes\": [{\"bbox\": [0.125, 0.125, 0.775, 0.755], \"xlim\": [-0.05678376576150296, 1.0450957430146663], \"ylim\": [-0.05630923425450043, 1.0853220410380418], \"xdomain\": [-0.05678376576150296, 1.0450957430146663], \"ydomain\": [-0.05630923425450043, 1.0853220410380418], \"xscale\": \"linear\", \"yscale\": \"linear\", \"axes\": [{\"position\": \"bottom\", \"nticks\": 8, \"tickvalues\": null, \"tickformat\": null, \"scale\": \"linear\", \"fontsize\": 10.0, \"grid\": {\"gridOn\": false}, \"visible\": true}, {\"position\": \"left\", \"nticks\": 8, \"tickvalues\": null, \"tickformat\": null, \"scale\": \"linear\", \"fontsize\": 10.0, \"grid\": {\"gridOn\": false}, \"visible\": true}], \"axesbg\": \"#FFFFFF\", \"axesbgalpha\": null, \"zoomable\": true, \"id\": \"el14038139806099281344\", \"lines\": [], \"paths\": [], \"markers\": [], \"texts\": [], \"collections\": [{\"offsets\": \"data01\", \"xindex\": 0, \"yindex\": 1, \"paths\": [[[[0.0, -0.5], [0.13260155, -0.5], [0.25978993539242673, -0.44731684579412084], [0.3535533905932738, -0.3535533905932738], [0.44731684579412084, -0.25978993539242673], [0.5, -0.13260155], [0.5, 0.0], [0.5, 0.13260155], [0.44731684579412084, 0.25978993539242673], [0.3535533905932738, 0.3535533905932738], [0.25978993539242673, 0.44731684579412084], [0.13260155, 0.5], [0.0, 0.5], [-0.13260155, 0.5], [-0.25978993539242673, 0.44731684579412084], [-0.3535533905932738, 0.3535533905932738], [-0.44731684579412084, 0.25978993539242673], [-0.5, 0.13260155], [-0.5, 0.0], [-0.5, -0.13260155], [-0.44731684579412084, -0.25978993539242673], [-0.3535533905932738, -0.3535533905932738], [-0.25978993539242673, -0.44731684579412084], [-0.13260155, -0.5], [0.0, -0.5]], [\"M\", \"C\", \"C\", \"C\", \"C\", \"C\", \"C\", \"C\", \"C\", \"Z\"]]], \"pathtransforms\": [[17.320508075688775, 0.0, 0.0, 17.320508075688775, 0.0, 0.0]], \"alphas\": [0.3], \"edgecolors\": [\"#1F77B4\"], \"facecolors\": [\"#1F77B4\"], \"edgewidths\": [1.0], \"offsetcoordinates\": \"data\", \"pathcoordinates\": \"display\", \"zorder\": 1, \"id\": \"el14038139806099725336\"}], \"images\": [], \"sharex\": [], \"sharey\": []}], \"data\": {\"data01\": [[0.7997564937992643, 0.896917083184891], [0.6960721857744877, 0.44555274709987536], [0.771695363663794, 0.6280356966195093], [0.5040046082021258, 0.7764544641458831], [0.3010768952712094, 0.8902143384157016], [0.2459579473954222, 0.5508447265718457], [0.03541787185934264, 0.3812701712792783], [0.6137440804370974, 0.6683108427373109], [0.03922280884389029, 0.17257845027517082], [0.36261443862701737, 0.03541134348736086], [0.8659736503581912, 0.5083951528684696], [0.4335704443825592, 0.771757267972051], [0.19453764586173594, 0.07432360805096139], [0.49545904205355706, 0.7120500622571658], [0.24047388979154438, 0.6152089251161502], [0.5231561850154378, 0.303342496205792], [0.30349224855173096, 0.4573381652562408], [0.5168834392464386, 0.5974647538431462], [0.7116039485825556, 0.5263038520177932], [0.40290915940456695, 0.22107001208458832], [0.7559140500760894, 0.15856020344939803], [0.9691433632532298, 0.06239309897411027], [0.019168613999933748, 0.1849205500760872], [0.5715520216255506, 0.14298316045128912], [0.9464258581715611, 0.23053638550909483], [0.15273608829018226, 0.0642599181532989], [0.06729637702268965, 0.8055657541869451], [0.8483737075789815, 0.9936014632961806], [0.2073573886357094, 0.3651072138702265], [0.5018938586561844, 0.3601493768575367], [0.5483645553587746, 0.6202859045450551], [0.15993966269243343, 0.26910830667071883], [0.12882178158315305, 0.8509463922983562], [0.6709176517011305, 0.2656740609016668], [0.5294138386643849, 0.15160684992606788], [0.06609346344612888, 0.6838961036854112], [0.5537725728843101, 0.6582515491946427], [0.25901565674833715, 0.17290482978415733], [0.7654696807102235, 0.565288103590891], [0.736222296958185, 0.6145830017791089]]}, \"id\": \"el14038139806099725952\", \"plugins\": [{\"type\": \"reset\"}, {\"type\": \"zoom\", \"button\": true, \"enabled\": false}, {\"type\": \"boxzoom\", \"button\": true, \"enabled\": false}, {\"type\": \"tooltip\", \"id\": \"el14038139806099725336\", \"labels\": [\"Point 0\", \"Point 1\", \"Point 2\", \"Point 3\", \"Point 4\", \"Point 5\", \"Point 6\", \"Point 7\", \"Point 8\", \"Point 9\", \"Point 10\", \"Point 11\", \"Point 12\", \"Point 13\", \"Point 14\", \"Point 15\", \"Point 16\", \"Point 17\", \"Point 18\", \"Point 19\", \"Point 20\", \"Point 21\", \"Point 22\", \"Point 23\", \"Point 24\", \"Point 25\", \"Point 26\", \"Point 27\", \"Point 28\", \"Point 29\", \"Point 30\", \"Point 31\", \"Point 32\", \"Point 33\", \"Point 34\", \"Point 35\", \"Point 36\", \"Point 37\", \"Point 38\", \"Point 39\"], \"hoffset\": 0, \"voffset\": 0, \"location\": \"mouse\"}]});\n",
       "   }(mpld3);\n",
       "}else if(typeof define === \"function\" && define.amd){\n",
       "   // require.js is available: use it to load d3/mpld3\n",
       "   require.config({paths: {d3: \"https://mpld3.github.io/js/d3.v3.min\"}});\n",
       "   require([\"d3\"], function(d3){\n",
       "      window.d3 = d3;\n",
       "      mpld3_load_lib(\"https://mpld3.github.io/js/mpld3.v0.3.js\", function(){\n",
       "         \n",
       "         mpld3.draw_figure(\"fig_el140381398060997259524552849421\", {\"width\": 432.0, \"height\": 288.0, \"axes\": [{\"bbox\": [0.125, 0.125, 0.775, 0.755], \"xlim\": [-0.05678376576150296, 1.0450957430146663], \"ylim\": [-0.05630923425450043, 1.0853220410380418], \"xdomain\": [-0.05678376576150296, 1.0450957430146663], \"ydomain\": [-0.05630923425450043, 1.0853220410380418], \"xscale\": \"linear\", \"yscale\": \"linear\", \"axes\": [{\"position\": \"bottom\", \"nticks\": 8, \"tickvalues\": null, \"tickformat\": null, \"scale\": \"linear\", \"fontsize\": 10.0, \"grid\": {\"gridOn\": false}, \"visible\": true}, {\"position\": \"left\", \"nticks\": 8, \"tickvalues\": null, \"tickformat\": null, \"scale\": \"linear\", \"fontsize\": 10.0, \"grid\": {\"gridOn\": false}, \"visible\": true}], \"axesbg\": \"#FFFFFF\", \"axesbgalpha\": null, \"zoomable\": true, \"id\": \"el14038139806099281344\", \"lines\": [], \"paths\": [], \"markers\": [], \"texts\": [], \"collections\": [{\"offsets\": \"data01\", \"xindex\": 0, \"yindex\": 1, \"paths\": [[[[0.0, -0.5], [0.13260155, -0.5], [0.25978993539242673, -0.44731684579412084], [0.3535533905932738, -0.3535533905932738], [0.44731684579412084, -0.25978993539242673], [0.5, -0.13260155], [0.5, 0.0], [0.5, 0.13260155], [0.44731684579412084, 0.25978993539242673], [0.3535533905932738, 0.3535533905932738], [0.25978993539242673, 0.44731684579412084], [0.13260155, 0.5], [0.0, 0.5], [-0.13260155, 0.5], [-0.25978993539242673, 0.44731684579412084], [-0.3535533905932738, 0.3535533905932738], [-0.44731684579412084, 0.25978993539242673], [-0.5, 0.13260155], [-0.5, 0.0], [-0.5, -0.13260155], [-0.44731684579412084, -0.25978993539242673], [-0.3535533905932738, -0.3535533905932738], [-0.25978993539242673, -0.44731684579412084], [-0.13260155, -0.5], [0.0, -0.5]], [\"M\", \"C\", \"C\", \"C\", \"C\", \"C\", \"C\", \"C\", \"C\", \"Z\"]]], \"pathtransforms\": [[17.320508075688775, 0.0, 0.0, 17.320508075688775, 0.0, 0.0]], \"alphas\": [0.3], \"edgecolors\": [\"#1F77B4\"], \"facecolors\": [\"#1F77B4\"], \"edgewidths\": [1.0], \"offsetcoordinates\": \"data\", \"pathcoordinates\": \"display\", \"zorder\": 1, \"id\": \"el14038139806099725336\"}], \"images\": [], \"sharex\": [], \"sharey\": []}], \"data\": {\"data01\": [[0.7997564937992643, 0.896917083184891], [0.6960721857744877, 0.44555274709987536], [0.771695363663794, 0.6280356966195093], [0.5040046082021258, 0.7764544641458831], [0.3010768952712094, 0.8902143384157016], [0.2459579473954222, 0.5508447265718457], [0.03541787185934264, 0.3812701712792783], [0.6137440804370974, 0.6683108427373109], [0.03922280884389029, 0.17257845027517082], [0.36261443862701737, 0.03541134348736086], [0.8659736503581912, 0.5083951528684696], [0.4335704443825592, 0.771757267972051], [0.19453764586173594, 0.07432360805096139], [0.49545904205355706, 0.7120500622571658], [0.24047388979154438, 0.6152089251161502], [0.5231561850154378, 0.303342496205792], [0.30349224855173096, 0.4573381652562408], [0.5168834392464386, 0.5974647538431462], [0.7116039485825556, 0.5263038520177932], [0.40290915940456695, 0.22107001208458832], [0.7559140500760894, 0.15856020344939803], [0.9691433632532298, 0.06239309897411027], [0.019168613999933748, 0.1849205500760872], [0.5715520216255506, 0.14298316045128912], [0.9464258581715611, 0.23053638550909483], [0.15273608829018226, 0.0642599181532989], [0.06729637702268965, 0.8055657541869451], [0.8483737075789815, 0.9936014632961806], [0.2073573886357094, 0.3651072138702265], [0.5018938586561844, 0.3601493768575367], [0.5483645553587746, 0.6202859045450551], [0.15993966269243343, 0.26910830667071883], [0.12882178158315305, 0.8509463922983562], [0.6709176517011305, 0.2656740609016668], [0.5294138386643849, 0.15160684992606788], [0.06609346344612888, 0.6838961036854112], [0.5537725728843101, 0.6582515491946427], [0.25901565674833715, 0.17290482978415733], [0.7654696807102235, 0.565288103590891], [0.736222296958185, 0.6145830017791089]]}, \"id\": \"el14038139806099725952\", \"plugins\": [{\"type\": \"reset\"}, {\"type\": \"zoom\", \"button\": true, \"enabled\": false}, {\"type\": \"boxzoom\", \"button\": true, \"enabled\": false}, {\"type\": \"tooltip\", \"id\": \"el14038139806099725336\", \"labels\": [\"Point 0\", \"Point 1\", \"Point 2\", \"Point 3\", \"Point 4\", \"Point 5\", \"Point 6\", \"Point 7\", \"Point 8\", \"Point 9\", \"Point 10\", \"Point 11\", \"Point 12\", \"Point 13\", \"Point 14\", \"Point 15\", \"Point 16\", \"Point 17\", \"Point 18\", \"Point 19\", \"Point 20\", \"Point 21\", \"Point 22\", \"Point 23\", \"Point 24\", \"Point 25\", \"Point 26\", \"Point 27\", \"Point 28\", \"Point 29\", \"Point 30\", \"Point 31\", \"Point 32\", \"Point 33\", \"Point 34\", \"Point 35\", \"Point 36\", \"Point 37\", \"Point 38\", \"Point 39\"], \"hoffset\": 0, \"voffset\": 0, \"location\": \"mouse\"}]});\n",
       "      });\n",
       "    });\n",
       "}else{\n",
       "    // require.js not available: dynamically load d3 & mpld3\n",
       "    mpld3_load_lib(\"https://mpld3.github.io/js/d3.v3.min.js\", function(){\n",
       "         mpld3_load_lib(\"https://mpld3.github.io/js/mpld3.v0.3.js\", function(){\n",
       "                 \n",
       "                 mpld3.draw_figure(\"fig_el140381398060997259524552849421\", {\"width\": 432.0, \"height\": 288.0, \"axes\": [{\"bbox\": [0.125, 0.125, 0.775, 0.755], \"xlim\": [-0.05678376576150296, 1.0450957430146663], \"ylim\": [-0.05630923425450043, 1.0853220410380418], \"xdomain\": [-0.05678376576150296, 1.0450957430146663], \"ydomain\": [-0.05630923425450043, 1.0853220410380418], \"xscale\": \"linear\", \"yscale\": \"linear\", \"axes\": [{\"position\": \"bottom\", \"nticks\": 8, \"tickvalues\": null, \"tickformat\": null, \"scale\": \"linear\", \"fontsize\": 10.0, \"grid\": {\"gridOn\": false}, \"visible\": true}, {\"position\": \"left\", \"nticks\": 8, \"tickvalues\": null, \"tickformat\": null, \"scale\": \"linear\", \"fontsize\": 10.0, \"grid\": {\"gridOn\": false}, \"visible\": true}], \"axesbg\": \"#FFFFFF\", \"axesbgalpha\": null, \"zoomable\": true, \"id\": \"el14038139806099281344\", \"lines\": [], \"paths\": [], \"markers\": [], \"texts\": [], \"collections\": [{\"offsets\": \"data01\", \"xindex\": 0, \"yindex\": 1, \"paths\": [[[[0.0, -0.5], [0.13260155, -0.5], [0.25978993539242673, -0.44731684579412084], [0.3535533905932738, -0.3535533905932738], [0.44731684579412084, -0.25978993539242673], [0.5, -0.13260155], [0.5, 0.0], [0.5, 0.13260155], [0.44731684579412084, 0.25978993539242673], [0.3535533905932738, 0.3535533905932738], [0.25978993539242673, 0.44731684579412084], [0.13260155, 0.5], [0.0, 0.5], [-0.13260155, 0.5], [-0.25978993539242673, 0.44731684579412084], [-0.3535533905932738, 0.3535533905932738], [-0.44731684579412084, 0.25978993539242673], [-0.5, 0.13260155], [-0.5, 0.0], [-0.5, -0.13260155], [-0.44731684579412084, -0.25978993539242673], [-0.3535533905932738, -0.3535533905932738], [-0.25978993539242673, -0.44731684579412084], [-0.13260155, -0.5], [0.0, -0.5]], [\"M\", \"C\", \"C\", \"C\", \"C\", \"C\", \"C\", \"C\", \"C\", \"Z\"]]], \"pathtransforms\": [[17.320508075688775, 0.0, 0.0, 17.320508075688775, 0.0, 0.0]], \"alphas\": [0.3], \"edgecolors\": [\"#1F77B4\"], \"facecolors\": [\"#1F77B4\"], \"edgewidths\": [1.0], \"offsetcoordinates\": \"data\", \"pathcoordinates\": \"display\", \"zorder\": 1, \"id\": \"el14038139806099725336\"}], \"images\": [], \"sharex\": [], \"sharey\": []}], \"data\": {\"data01\": [[0.7997564937992643, 0.896917083184891], [0.6960721857744877, 0.44555274709987536], [0.771695363663794, 0.6280356966195093], [0.5040046082021258, 0.7764544641458831], [0.3010768952712094, 0.8902143384157016], [0.2459579473954222, 0.5508447265718457], [0.03541787185934264, 0.3812701712792783], [0.6137440804370974, 0.6683108427373109], [0.03922280884389029, 0.17257845027517082], [0.36261443862701737, 0.03541134348736086], [0.8659736503581912, 0.5083951528684696], [0.4335704443825592, 0.771757267972051], [0.19453764586173594, 0.07432360805096139], [0.49545904205355706, 0.7120500622571658], [0.24047388979154438, 0.6152089251161502], [0.5231561850154378, 0.303342496205792], [0.30349224855173096, 0.4573381652562408], [0.5168834392464386, 0.5974647538431462], [0.7116039485825556, 0.5263038520177932], [0.40290915940456695, 0.22107001208458832], [0.7559140500760894, 0.15856020344939803], [0.9691433632532298, 0.06239309897411027], [0.019168613999933748, 0.1849205500760872], [0.5715520216255506, 0.14298316045128912], [0.9464258581715611, 0.23053638550909483], [0.15273608829018226, 0.0642599181532989], [0.06729637702268965, 0.8055657541869451], [0.8483737075789815, 0.9936014632961806], [0.2073573886357094, 0.3651072138702265], [0.5018938586561844, 0.3601493768575367], [0.5483645553587746, 0.6202859045450551], [0.15993966269243343, 0.26910830667071883], [0.12882178158315305, 0.8509463922983562], [0.6709176517011305, 0.2656740609016668], [0.5294138386643849, 0.15160684992606788], [0.06609346344612888, 0.6838961036854112], [0.5537725728843101, 0.6582515491946427], [0.25901565674833715, 0.17290482978415733], [0.7654696807102235, 0.565288103590891], [0.736222296958185, 0.6145830017791089]]}, \"id\": \"el14038139806099725952\", \"plugins\": [{\"type\": \"reset\"}, {\"type\": \"zoom\", \"button\": true, \"enabled\": false}, {\"type\": \"boxzoom\", \"button\": true, \"enabled\": false}, {\"type\": \"tooltip\", \"id\": \"el14038139806099725336\", \"labels\": [\"Point 0\", \"Point 1\", \"Point 2\", \"Point 3\", \"Point 4\", \"Point 5\", \"Point 6\", \"Point 7\", \"Point 8\", \"Point 9\", \"Point 10\", \"Point 11\", \"Point 12\", \"Point 13\", \"Point 14\", \"Point 15\", \"Point 16\", \"Point 17\", \"Point 18\", \"Point 19\", \"Point 20\", \"Point 21\", \"Point 22\", \"Point 23\", \"Point 24\", \"Point 25\", \"Point 26\", \"Point 27\", \"Point 28\", \"Point 29\", \"Point 30\", \"Point 31\", \"Point 32\", \"Point 33\", \"Point 34\", \"Point 35\", \"Point 36\", \"Point 37\", \"Point 38\", \"Point 39\"], \"hoffset\": 0, \"voffset\": 0, \"location\": \"mouse\"}]});\n",
       "            })\n",
       "         });\n",
       "}\n",
       "</script>"
      ],
      "text/plain": [
       "<matplotlib.figure.Figure at 0x7f2724e95e80>"
      ]
     },
     "metadata": {},
     "output_type": "display_data"
    }
   ],
   "source": []
  },
  {
   "cell_type": "markdown",
   "metadata": {
    "slideshow": {
     "slide_type": "slide"
    }
   },
   "source": [
    "## 1. First pt"
   ]
  },
  {
   "cell_type": "markdown",
   "metadata": {
    "slideshow": {
     "slide_type": "fragment"
    }
   },
   "source": [
    "![Image](figs/pre/jupnbukpre/figs/test.png)"
   ]
  },
  {
   "cell_type": "markdown",
   "metadata": {
    "slideshow": {
     "slide_type": "fragment"
    }
   },
   "source": [
    "- point 01"
   ]
  },
  {
   "cell_type": "markdown",
   "metadata": {
    "slideshow": {
     "slide_type": "fragment"
    }
   },
   "source": [
    "- - point 02"
   ]
  },
  {
   "cell_type": "markdown",
   "metadata": {
    "slideshow": {
     "slide_type": "slide"
    }
   },
   "source": [
    "## 2. Secondly,\n"
   ]
  },
  {
   "cell_type": "markdown",
   "metadata": {
    "slideshow": {
     "slide_type": "fragment"
    }
   },
   "source": [
    "- point and\n",
    "\n",
    "> \"a quote\""
   ]
  },
  {
   "cell_type": "markdown",
   "metadata": {
    "collapsed": true,
    "slideshow": {
     "slide_type": "slide"
    }
   },
   "source": [
    "## Conclusion\n",
    "\n",
    "- Therefore"
   ]
  }
 ],
 "metadata": {
  "celltoolbar": "Slideshow",
  "kernelspec": {
   "display_name": "Python 3",
   "language": "python",
   "name": "python3"
  },
  "language_info": {
   "codemirror_mode": {
    "name": "ipython",
    "version": 3
   },
   "file_extension": ".py",
   "mimetype": "text/x-python",
   "name": "python",
   "nbconvert_exporter": "python",
   "pygments_lexer": "ipython3",
   "version": "3.7.0"
  }
 },
 "nbformat": 4,
 "nbformat_minor": 2
}
