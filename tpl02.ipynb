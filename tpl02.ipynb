{
 "cells": [
  {
   "cell_type": "markdown",
   "metadata": {
    "collapsed": true,
    "slideshow": {
     "slide_type": "slide"
    }
   },
   "source": [
    "#### *date*\n",
    "## title\n",
    "\n",
    "\n",
    "#### Rohan Dandage"
   ]
  },
  {
   "cell_type": "code",
   "execution_count": null,
   "metadata": {},
   "outputs": [],
   "source": [
    "%matplotlib inline\n",
    "import numpy as np\n",
    "import matplotlib.pyplot as plt\n",
    "import mpld3\n",
    "mpld3.enable_notebook()"
   ]
  },
  {
   "cell_type": "code",
   "execution_count": null,
   "metadata": {
    "slideshow": {
     "slide_type": "slide"
    }
   },
   "outputs": [],
   "source": [
    "fig, ax = plt.subplots()\n",
    "points = ax.scatter(np.random.rand(40), np.random.rand(40),\n",
    "                    s=300, alpha=0.3)\n",
    "\n",
    "labels = [\"Point {0}\".format(i) for i in range(40)]\n",
    "tooltip = mpld3.plugins.PointLabelTooltip(points, labels,hoffset=0, voffset=0)\n",
    "\n",
    "mpld3.plugins.connect(fig, tooltip)\n",
    "# mpld3.show()"
   ]
  },
  {
   "cell_type": "code",
   "execution_count": null,
   "metadata": {},
   "outputs": [],
   "source": [
    "import matplotlib\n",
    "import matplotlib.pyplot as plt\n",
    "import numpy as np\n",
    "import mpld3\n",
    "from mpld3 import plugins, utils\n",
    "class LinkedView(plugins.PluginBase):\n",
    "    \"\"\"A simple plugin showing how multiple axes can be linked\"\"\"\n",
    "\n",
    "    JAVASCRIPT = \"\"\"\n",
    "    mpld3.register_plugin(\"linkedview\", LinkedViewPlugin);\n",
    "    LinkedViewPlugin.prototype = Object.create(mpld3.Plugin.prototype);\n",
    "    LinkedViewPlugin.prototype.constructor = LinkedViewPlugin;\n",
    "    LinkedViewPlugin.prototype.requiredProps = [\"idpts\", \"idline\", \"data\"];\n",
    "    LinkedViewPlugin.prototype.defaultProps = {}\n",
    "    function LinkedViewPlugin(fig, props){\n",
    "        mpld3.Plugin.call(this, fig, props);\n",
    "    };\n",
    "    \n",
    "    LinkedViewPlugin.prototype.draw = function(){\n",
    "        var pts = mpld3.get_element(this.props.idpts);\n",
    "        var line = mpld3.get_element(this.props.idline);\n",
    "        var data = this.props.data;\n",
    "    function mouseover(d, i){\n",
    "        line.data = data[i];\n",
    "        line.elements().transition()\n",
    "            .attr(\"d\", line.datafunc(line.data))\n",
    "            .style(\"stroke\", this.style.fill);\n",
    "    }\n",
    "    pts.elements().on(\"mouseover\", mouseover);\n",
    "    };\n",
    "    \"\"\"\n",
    "    def __init__(self, points, line, linedata):\n",
    "        if isinstance(points, matplotlib.lines.Line2D):\n",
    "            suffix = \"pts\"\n",
    "        else:\n",
    "            suffix = None\n",
    "        self.dict_ = {\"type\": \"linkedview\",\n",
    "        \"idpts\": utils.get_id(points, suffix),\n",
    "        \"idline\": utils.get_id(line),\n",
    "        \"data\": linedata}\n",
    "        \n",
    "fig, ax = plt.subplots(2)\n",
    "# scatter periods and amplitudes\n",
    "np.random.seed(0)\n",
    "P = 0.2 + np.random.random(size=20)\n",
    "A = np.random.random(size=20)\n",
    "x = np.linspace(0, 10, 100)\n",
    "data = np.array([[x, Ai * np.sin(x / Pi)]\n",
    "                for (Ai, Pi) in zip(A, P)])\n",
    "points = ax[1].scatter(P, A, c=P + A,\n",
    "                        s=200, alpha=0.5)\n",
    "ax[1].set_xlabel('Period')\n",
    "ax[1].set_ylabel('Amplitude')\n",
    "# create the line object\n",
    "lines = ax[0].plot(x, 0 * x, '-w', lw=3, alpha=0.5)\n",
    "ax[0].set_ylim(-1, 1)\n",
    "ax[0].set_title(\"Hover over points to see lines\")\n",
    "# transpose line data and add plugin\n",
    "linedata = data.transpose(0, 2, 1).tolist()\n",
    "plugins.connect(fig, LinkedView(points, lines[0], linedata))\n",
    "# mpld3.show()"
   ]
  },
  {
   "cell_type": "code",
   "execution_count": null,
   "metadata": {},
   "outputs": [],
   "source": [
    "# You're half-way there with your answer. I think what you want to do is something like this, which will embed three figures on the page:\n",
    "\n",
    "# <script type=\"text/javascript\" src=\"http://d3js.org/d3.v3.min.js\"></script>\n",
    "# <script type=\"text/javascript\" src=\"http://mpld3.github.io/js/mpld3.v0.1.js\"></script>\n",
    "# <style>\n",
    "# </style>\n",
    "# <div id=\"fig01\"></div>\n",
    "# <div id=\"fig02\"></div>\n",
    "# <div id=\"fig03\"></div>\n",
    "# <script type=\"text/javascript\">\n",
    "#   var json01 = { <snip JSON code> };\n",
    "#   var json02 = { <snip JSON code> };\n",
    "#   var json03 = { <snip JSON code> };\n",
    "#   mpld3.draw_figure(\"fig01\", json01);\n",
    "#   mpld3.draw_figure(\"fig02\", json02);\n",
    "#   mpld3.draw_figure(\"fig03\", json03);\n",
    "# </script>\n",
    "# The json code for each figure can be created in Python by running\n",
    "\n",
    "# import json\n",
    "\n",
    "# # ... create matplotlib figure\n",
    "\n",
    "# json01 = json.dumps(mpld3.fig_to_dict(fig))\n",
    "# Embed this string at the appropriate place in the HTML document you're creating, and you should be good to go. I hope that helps!\n",
    "\n",
    "# Note that since jakevdp's answer was posted mpld3 has had a new release. As of today (September 2014) the mpld3 include has to be:\n",
    "\n",
    "# <script type=\"text/javascript\" src=\"http://mpld3.github.io/js/mpld3.v0.2.js\"></script>\n"
   ]
  },
  {
   "cell_type": "markdown",
   "metadata": {
    "slideshow": {
     "slide_type": "slide"
    }
   },
   "source": [
    "## 1. First pt"
   ]
  },
  {
   "cell_type": "markdown",
   "metadata": {
    "slideshow": {
     "slide_type": "fragment"
    }
   },
   "source": [
    "![Image](figs/test.png)"
   ]
  },
  {
   "cell_type": "markdown",
   "metadata": {
    "slideshow": {
     "slide_type": "fragment"
    }
   },
   "source": [
    "- point 01"
   ]
  },
  {
   "cell_type": "markdown",
   "metadata": {
    "slideshow": {
     "slide_type": "fragment"
    }
   },
   "source": [
    "- - point 02"
   ]
  },
  {
   "cell_type": "markdown",
   "metadata": {
    "slideshow": {
     "slide_type": "slide"
    }
   },
   "source": [
    "## 2. Secondly,\n"
   ]
  },
  {
   "cell_type": "markdown",
   "metadata": {
    "slideshow": {
     "slide_type": "fragment"
    }
   },
   "source": [
    "- point and\n",
    "\n",
    "> \"a quote\""
   ]
  },
  {
   "cell_type": "markdown",
   "metadata": {
    "collapsed": true,
    "slideshow": {
     "slide_type": "slide"
    }
   },
   "source": [
    "## Conclusion\n",
    "\n",
    "- Therefore"
   ]
  },
  {
   "cell_type": "markdown",
   "metadata": {
    "slideshow": {
     "slide_type": "subslide"
    }
   },
   "source": [
    "<image>\n",
    "</section>\n",
    "<section data-background=\"#d6cfd5\" data-state=\"no-title-footer\">\n",
    "  <div class=\"divider_h1\">\n",
    "    <h1><font size=\"6\">thank you for your kind attention.</font></h1>\n",
    "  </div>\n",
    "</section>\n",
    "</image>"
   ]
  }
 ],
 "metadata": {
  "celltoolbar": "Slideshow",
  "kernelspec": {
   "display_name": "Python 3",
   "language": "python",
   "name": "python3"
  },
  "language_info": {
   "codemirror_mode": {
    "name": "ipython",
    "version": 3
   },
   "file_extension": ".py",
   "mimetype": "text/x-python",
   "name": "python",
   "nbconvert_exporter": "python",
   "pygments_lexer": "ipython3",
   "version": "3.6.5"
  }
 },
 "nbformat": 4,
 "nbformat_minor": 2
}
